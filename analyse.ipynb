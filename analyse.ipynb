{
 "cells": [
  {
   "cell_type": "code",
   "execution_count": null,
   "metadata": {},
   "outputs": [],
   "source": [
    "import numpy as np\n",
    "import pandas as pd\n",
    "import matplotlib.pyplot as plt\n",
    "import os"
   ]
  },
  {
   "cell_type": "code",
   "execution_count": null,
   "metadata": {},
   "outputs": [],
   "source": [
    "df_eval_albert_chinese_base = pd.read_csv('eval_albert-chinese-base.csv')\n",
    "df_eval_bert_base_chinese = pd.read_csv('eval_bert-base-chinese.csv')\n",
    "df_eval_bert_wwm_chinese = pd.read_csv('eval_bert-wwm-chinese.csv')\n",
    "df_eval_bert_wwm_ext_chinese = pd.read_csv('eval_bert-wwm-ext-chinese.csv')\n",
    "df_eval_macbert_base_chinese = pd.read_csv('eval_macbert-base-chinese.csv')\n",
    "df_eval_nezha_base_wwm_chinese = pd.read_csv('eval_nezha-base-wwm-chinese.csv')\n",
    "df_eval_roberta_wwm_ext = pd.read_csv('eval_roberta-wwm-ext.csv')\n",
    "df_eval_simbert_base_chinese = pd.read_csv('eval_simbert-base-chinese.csv')\n",
    "df_list_albert_chinese_base = pd.read_csv('list_albert-chinese-base.csv')\n",
    "df_list_bert_base_chinese = pd.read_csv('list_bert-base-chinese.csv')\n",
    "df_list_bert_wwm_chinese = pd.read_csv('list_bert-wwm-chinese.csv')\n",
    "df_list_bert_wwm_ext_chinese = pd.read_csv('list_bert-wwm-ext-chinese.csv')\n",
    "df_list_macbert_base_chinese = pd.read_csv('list_macbert-base-chinese.csv')\n",
    "df_list_nezha_base_wwm_chinese = pd.read_csv('list_nezha-base-wwm-chinese.csv')\n",
    "df_list_roberta_wwm_ext = pd.read_csv('list_roberta-wwm-ext.csv')\n",
    "df_list_simbert_base_chinese = pd.read_csv('list_simbert-base-chinese.csv')"
   ]
  },
  {
   "cell_type": "code",
   "execution_count": null,
   "metadata": {},
   "outputs": [],
   "source": [
    "plt.figure(figsize=(20, 10))\n",
    "plt.style.use(\"ggplot\")\n",
    "plt.plot(df_eval_albert_chinese_base[\"f1_score\"], label='albert-chinese-base')\n",
    "plt.plot(df_eval_bert_base_chinese[\"f1_score\"], label='bert-base-chinese')\n",
    "plt.plot(df_eval_bert_wwm_chinese[\"f1_score\"], label='bert-wwm-chinese')\n",
    "plt.plot(df_eval_bert_wwm_ext_chinese[\"f1_score\"], label='bert-wwm-ext-chinese')\n",
    "plt.plot(df_eval_macbert_base_chinese[\"f1_score\"], label='macbert-base-chinese')\n",
    "# plt.plot(df_eval_nezha_base_wwm_chinese[\"f1_score\"], label='nezha-base-wwm-chinese')\n",
    "# plt.plot(df_eval_roberta_wwm_ext[\"f1_score\"], label='roberta-wwm-ext')\n",
    "plt.plot(df_eval_simbert_base_chinese[\"f1_score\"], label='simbert-base-chinese')\n",
    "plt.legend()\n",
    "plt.xlim([3,10])\n",
    "plt.ylim([0.865,0.876])\n",
    "plt.xlabel('epoch')\n",
    "plt.ylabel('f1_score')\n",
    "plt.title('f1_score')\n",
    "plt.savefig('f1_score.png')\n",
    "plt.show()\n"
   ]
  },
  {
   "cell_type": "code",
   "execution_count": null,
   "metadata": {},
   "outputs": [],
   "source": [
    "plt.figure(figsize=(20, 10))\n",
    "plt.plot(df_eval_albert_chinese_base[\"precision\"], label='albert-chinese-base',color='black')\n",
    "plt.plot(df_eval_bert_base_chinese[\"precision\"], label='bert-base-chinese')\n",
    "plt.plot(df_eval_bert_wwm_chinese[\"precision\"], label='bert-wwm-chinese')\n",
    "plt.plot(df_eval_bert_wwm_ext_chinese[\"precision\"], label='bert-wwm-ext-chinese',color='red')\n",
    "plt.plot(df_eval_macbert_base_chinese[\"precision\"], label='macbert-base-chinese')\n",
    "# plt.plot(df_eval_nezha_base_wwm_chinese[\"precision\"], label='nezha-base-wwm-chinese')\n",
    "# plt.plot(df_eval_roberta_wwm_ext[\"precision\"], label='roberta-wwm-ext')\n",
    "plt.plot(df_eval_simbert_base_chinese[\"precision\"], label='simbert-base-chinese')\n",
    "plt.legend()\n",
    "plt.xlim([3,10])\n",
    "plt.ylim([0.825,0.88])\n",
    "plt.xlabel('epoch')\n",
    "plt.ylabel('precision')\n",
    "plt.title('precision')\n",
    "plt.savefig('precision.png')\n",
    "plt.show()\n"
   ]
  },
  {
   "cell_type": "code",
   "execution_count": null,
   "metadata": {},
   "outputs": [],
   "source": [
    "plt.figure(figsize=(20, 10))\n",
    "plt.plot(df_eval_albert_chinese_base[\"recall\"], label='albert-chinese-base')\n",
    "plt.plot(df_eval_bert_base_chinese[\"recall\"], label='bert-base-chinese')\n",
    "plt.plot(df_eval_bert_wwm_chinese[\"recall\"], label='bert-wwm-chinese')\n",
    "plt.plot(df_eval_bert_wwm_ext_chinese[\"recall\"], label='bert-wwm-ext-chinese',color='red')\n",
    "plt.plot(df_eval_macbert_base_chinese[\"recall\"], label='macbert-base-chinese')\n",
    "# plt.plot(df_eval_nezha_base_wwm_chinese[\"recall\"], label='nezha-base-wwm-chinese')\n",
    "# plt.plot(df_eval_roberta_wwm_ext[\"recall\"], label='roberta-wwm-ext')\n",
    "plt.plot(df_eval_simbert_base_chinese[\"recall\"], label='simbert-base-chinese')\n",
    "plt.legend()\n",
    "plt.xlim([3,10])\n",
    "plt.ylim([0.87,0.9])\n",
    "plt.xlabel('epoch')\n",
    "plt.ylabel('recall')\n",
    "plt.title('recall')\n",
    "plt.savefig('recall.png')\n",
    "plt.show()"
   ]
  },
  {
   "cell_type": "code",
   "execution_count": null,
   "metadata": {},
   "outputs": [],
   "source": [
    "plt.figure(figsize=(20, 10))\n",
    "plt.plot(df_list_albert_chinese_base[\"loss\"], label='albert-chinese-base')\n",
    "plt.plot(df_list_bert_base_chinese[\"loss\"], label='bert-base-chinese')\n",
    "plt.plot(df_list_bert_wwm_chinese[\"loss\"], label='bert-wwm-chinese')\n",
    "plt.plot(df_list_macbert_base_chinese[\"loss\"], label='macbert-base-chinese',color=\"brown\")\n",
    "# plt.plot(df_list_nezha_base_wwm_chinese[\"loss\"], label='nezha-base-wwm-chinese')\n",
    "# plt.plot(df_list_roberta_wwm_ext[\"loss\"], label='roberta-wwm-ext')\n",
    "plt.plot(df_list_simbert_base_chinese[\"loss\"], label='simbert-base-chinese')\n",
    "plt.plot(df_list_bert_wwm_ext_chinese[\"loss\"], label='bert-wwm-ext-chinese',color=\"red\")\n",
    "plt.legend()\n"
   ]
  }
 ],
 "metadata": {
  "interpreter": {
   "hash": "e31e81658f5534225608c276b55dfe85823db7d131e1a4c9ee51920df6b43463"
  },
  "kernelspec": {
   "display_name": "Python 3.7.13 ('torch')",
   "language": "python",
   "name": "python3"
  },
  "language_info": {
   "codemirror_mode": {
    "name": "ipython",
    "version": 3
   },
   "file_extension": ".py",
   "mimetype": "text/x-python",
   "name": "python",
   "nbconvert_exporter": "python",
   "pygments_lexer": "ipython3",
   "version": "3.7.13"
  },
  "orig_nbformat": 4
 },
 "nbformat": 4,
 "nbformat_minor": 2
}
